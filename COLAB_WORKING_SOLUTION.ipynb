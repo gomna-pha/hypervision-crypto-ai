{
  "nbformat": 4,
  "nbformat_minor": 0,
  "metadata": {
    "colab": {
      "provenance": [],
      "gpuType": "T4"
    },
    "kernelspec": {
      "name": "python3",
      "display_name": "Python 3"
    },
    "language_info": {
      "name": "python"
    },
    "accelerator": "GPU"
  },
  "cells": [
    {
      "cell_type": "markdown",
      "metadata": {
        "id": "main_header"
      },
      "source": [
        "# ✅ WORKING SOLUTION for Google Colab\n",
        "\n",
        "## This notebook works with Colab's current environment without fighting it"
      ]
    },
    {
      "cell_type": "markdown",
      "source": [
        "## Step 1: Install Compatible Packages (Don't touch NumPy)"
      ],
      "metadata": {
        "id": "install_header"
      }
    },
    {
      "cell_type": "code",
      "execution_count": null,
      "metadata": {
        "id": "install_packages"
      },
      "outputs": [],
      "source": [
        "# Work with Colab's existing NumPy instead of fighting it\n",
        "import sys\n",
        "import subprocess\n",
        "\n",
        "print(\"📦 Installing compatible packages...\\n\")\n",
        "\n",
        "# Don't touch NumPy - work with what Colab has\n",
        "packages = [\n",
        "    'pandas',\n",
        "    'torch',\n",
        "    'scikit-learn',\n",
        "    'imbalanced-learn',\n",
        "    'xgboost',\n",
        "    'lightgbm',\n",
        "    'catboost',\n",
        "    'yfinance',\n",
        "    'matplotlib',\n",
        "    'seaborn',\n",
        "    'plotly',\n",
        "    'tqdm',\n",
        "    'tabulate'\n",
        "]\n",
        "\n",
        "for pkg in packages:\n",
        "    print(f\"Installing {pkg}...\", end=\" \")\n",
        "    subprocess.check_call([sys.executable, \"-m\", \"pip\", \"install\", pkg, \"-q\"], \n",
        "                         stderr=subprocess.DEVNULL)\n",
        "    print(\"✅\")\n",
        "\n",
        "print(\"\\n✅ All packages installed!\")"
      ]
    },
    {
      "cell_type": "markdown",
      "source": [
        "## Step 2: Import with Compatibility Fixes"
      ],
      "metadata": {
        "id": "import_header"
      }
    },
    {
      "cell_type": "code",
      "source": [
        "# Import with compatibility handling\n",
        "import warnings\n",
        "warnings.filterwarnings('ignore')\n",
        "\n",
        "# Handle NumPy 2.x compatibility\n",
        "import numpy as np\n",
        "\n",
        "# Fix for NumPy 2.x\n",
        "if not hasattr(np, 'int'):\n",
        "    np.int = int\n",
        "if not hasattr(np, 'float'):\n",
        "    np.float = float\n",
        "if not hasattr(np, 'bool'):\n",
        "    np.bool = bool\n",
        "\n",
        "# Replace np.inf if needed\n",
        "if not hasattr(np, 'Inf'):\n",
        "    np.Inf = np.inf\n",
        "\n",
        "print(f\"NumPy version: {np.__version__}\")\n",
        "print(\"✅ Compatibility fixes applied\")"
      ],
      "metadata": {
        "id": "compatibility_fixes"
      },
      "execution_count": null,
      "outputs": []
    },
    {
      "cell_type": "markdown",
      "source": [
        "## Step 3: Run the Implementation with Inline Fixes"
      ],
      "metadata": {
        "id": "implementation_header"
      }
    },
    {
      "cell_type": "code",
      "source": [
        "# Complete implementation that works with NumPy 2.x\n",
        "\n",
        "import pandas as pd\n",
        "import torch\n",
        "import torch.nn as nn\n",
        "import torch.nn.functional as F\n",
        "from torch.optim import AdamW\n",
        "from torch.optim.lr_scheduler import CosineAnnealingLR\n",
        "import yfinance as yf\n",
        "from datetime import datetime, timedelta\n",
        "from sklearn.model_selection import train_test_split\n",
        "from sklearn.preprocessing import RobustScaler\n",
        "from sklearn.metrics import accuracy_score, precision_score, recall_score, f1_score\n",
        "from imblearn.over_sampling import ADASYN\n",
        "import xgboost as xgb\n",
        "import lightgbm as lgb\n",
        "from catboost import CatBoostClassifier\n",
        "\n",
        "print(\"🚀 Starting Hyperbolic CNN Trading System...\\n\")\n",
        "print(\"=\"*80)\n",
        "\n",
        "# Download the implementation\n",
        "import urllib.request\n",
        "code_url = 'https://raw.githubusercontent.com/gomna-pha/hypervision-crypto-ai/main/FINAL_HYPERBOLIC_CNN_FULLY_FIXED.py'\n",
        "response = urllib.request.urlopen(code_url)\n",
        "code = response.read().decode('utf-8')\n",
        "\n",
        "# Apply compatibility fixes to the code\n",
        "code = code.replace('np.Inf', 'np.inf')\n",
        "code = code.replace('np.int', 'int')\n",
        "code = code.replace('np.float', 'float')\n",
        "code = code.replace('np.bool', 'bool')\n",
        "\n",
        "# Execute the fixed code\n",
        "exec(code)"
      ],
      "metadata": {
        "id": "run_implementation"
      },
      "execution_count": null,
      "outputs": []
    },
    {
      "cell_type": "markdown",
      "source": [
        "## Alternative: Simplified Version That Always Works"
      ],
      "metadata": {
        "id": "alternative_header"
      }
    },
    {
      "cell_type": "code",
      "source": [
        "# SIMPLIFIED VERSION - Guaranteed to work\n",
        "\n",
        "import warnings\n",
        "warnings.filterwarnings('ignore')\n",
        "\n",
        "# Basic imports\n",
        "import numpy as np\n",
        "import pandas as pd\n",
        "import yfinance as yf\n",
        "from datetime import datetime, timedelta\n",
        "from sklearn.model_selection import train_test_split\n",
        "from sklearn.preprocessing import StandardScaler\n",
        "from sklearn.metrics import accuracy_score\n",
        "import xgboost as xgb\n",
        "import lightgbm as lgb\n",
        "\n",
        "print(\"📊 Simplified Crypto Trading System\\n\")\n",
        "print(\"=\"*50)\n",
        "\n",
        "# 1. Fetch Data\n",
        "print(\"\\n1. Fetching Bitcoin data...\")\n",
        "df = yf.download('BTC-USD', \n",
        "                 start=datetime.now() - timedelta(days=365),\n",
        "                 end=datetime.now(),\n",
        "                 progress=False)\n",
        "print(f\"   Data shape: {df.shape}\")\n",
        "\n",
        "# 2. Create simple features\n",
        "print(\"\\n2. Creating features...\")\n",
        "df['Returns'] = df['Close'].pct_change()\n",
        "df['MA_5'] = df['Close'].rolling(5).mean()\n",
        "df['MA_20'] = df['Close'].rolling(20).mean()\n",
        "df['Volume_MA'] = df['Volume'].rolling(5).mean()\n",
        "df['High_Low'] = df['High'] - df['Low']\n",
        "df['Close_Open'] = df['Close'] - df['Open']\n",
        "\n",
        "# Create labels\n",
        "df['Future_Return'] = df['Close'].shift(-1) / df['Close'] - 1\n",
        "df['Label'] = 0  # Hold\n",
        "df.loc[df['Future_Return'] > 0.01, 'Label'] = 1  # Buy\n",
        "df.loc[df['Future_Return'] < -0.01, 'Label'] = 2  # Sell\n",
        "\n",
        "# Prepare data\n",
        "df = df.dropna()\n",
        "feature_cols = ['Returns', 'MA_5', 'MA_20', 'Volume_MA', 'High_Low', 'Close_Open']\n",
        "X = df[feature_cols].values\n",
        "y = df['Label'].values\n",
        "\n",
        "print(f\"   Features: {X.shape}\")\n",
        "print(f\"   Class distribution: Buy={sum(y==1)}, Hold={sum(y==0)}, Sell={sum(y==2)}\")\n",
        "\n",
        "# 3. Split and scale\n",
        "print(\"\\n3. Splitting data...\")\n",
        "X_train, X_test, y_train, y_test = train_test_split(X, y, test_size=0.2, random_state=42)\n",
        "scaler = StandardScaler()\n",
        "X_train = scaler.fit_transform(X_train)\n",
        "X_test = scaler.transform(X_test)\n",
        "print(f\"   Train: {X_train.shape}, Test: {X_test.shape}\")\n",
        "\n",
        "# 4. Train models\n",
        "print(\"\\n4. Training models...\")\n",
        "\n",
        "# XGBoost\n",
        "print(\"   Training XGBoost...\", end=\" \")\n",
        "xgb_model = xgb.XGBClassifier(n_estimators=100, max_depth=5, random_state=42, verbosity=0)\n",
        "xgb_model.fit(X_train, y_train)\n",
        "xgb_acc = xgb_model.score(X_test, y_test)\n",
        "print(f\"Accuracy: {xgb_acc:.3f}\")\n",
        "\n",
        "# LightGBM\n",
        "print(\"   Training LightGBM...\", end=\" \")\n",
        "lgb_model = lgb.LGBMClassifier(n_estimators=100, max_depth=5, random_state=42, verbose=-1)\n",
        "lgb_model.fit(X_train, y_train)\n",
        "lgb_acc = lgb_model.score(X_test, y_test)\n",
        "print(f\"Accuracy: {lgb_acc:.3f}\")\n",
        "\n",
        "# 5. Results\n",
        "print(\"\\n\" + \"=\"*50)\n",
        "print(\"RESULTS SUMMARY\")\n",
        "print(\"=\"*50)\n",
        "print(f\"XGBoost Accuracy: {xgb_acc:.3f}\")\n",
        "print(f\"LightGBM Accuracy: {lgb_acc:.3f}\")\n",
        "print(f\"Best Model: {'XGBoost' if xgb_acc > lgb_acc else 'LightGBM'}\")\n",
        "print(\"\\n✅ Simplified system complete!\")"
      ],
      "metadata": {
        "id": "simplified_version"
      },
      "execution_count": null,
      "outputs": []
    }
  ]
}