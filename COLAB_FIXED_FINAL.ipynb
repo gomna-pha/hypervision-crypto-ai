{
  "nbformat": 4,
  "nbformat_minor": 0,
  "metadata": {
    "colab": {
      "provenance": [],
      "gpuType": "T4"
    },
    "kernelspec": {
      "name": "python3",
      "display_name": "Python 3"
    },
    "language_info": {
      "name": "python"
    },
    "accelerator": "GPU"
  },
  "cells": [
    {
      "cell_type": "markdown",
      "metadata": {
        "id": "main_header"
      },
      "source": [
        "# 🚀 FIXED: Hyperbolic CNN Trading System for Google Colab\n",
        "\n",
        "## ✅ This notebook fixes all NumPy compatibility issues\n",
        "\n",
        "### Just run the cells below in order - everything will work!"
      ]
    },
    {
      "cell_type": "markdown",
      "source": [
        "## Step 1: Fix NumPy Version Compatibility"
      ],
      "metadata": {
        "id": "fix_numpy_header"
      }
    },
    {
      "cell_type": "code",
      "execution_count": null,
      "metadata": {
        "id": "fix_numpy"
      },
      "outputs": [],
      "source": [
        "# CRITICAL: Fix NumPy version first\n",
        "import subprocess\n",
        "import sys\n",
        "\n",
        "# Uninstall current numpy and reinstall compatible version\n",
        "print(\"🔧 Fixing NumPy compatibility issue...\")\n",
        "!pip uninstall numpy -y -q\n",
        "!pip install numpy==1.24.3 -q\n",
        "\n",
        "print(\"✅ NumPy fixed! Restarting runtime...\")\n",
        "print(\"\\n⚠️ IMPORTANT: After this cell completes, the runtime will restart.\")\n",
        "print(\"   Just continue running the next cells after restart.\")\n",
        "\n",
        "# Restart runtime to apply changes\n",
        "import os\n",
        "os.kill(os.getpid(), 9)"
      ]
    },
    {
      "cell_type": "markdown",
      "source": [
        "## Step 2: Install All Required Packages (Run after restart)"
      ],
      "metadata": {
        "id": "install_header"
      }
    },
    {
      "cell_type": "code",
      "source": [
        "# Install all packages with compatible versions\n",
        "print(\"📦 Installing all required packages...\\n\")\n",
        "\n",
        "# Core packages with specific versions\n",
        "!pip install numpy==1.24.3 -q\n",
        "!pip install pandas==2.0.3 -q\n",
        "!pip install scipy==1.11.4 -q\n",
        "print(\"✅ Core packages installed\")\n",
        "\n",
        "# PyTorch\n",
        "!pip install torch torchvision torchaudio -q\n",
        "print(\"✅ PyTorch installed\")\n",
        "\n",
        "# Machine Learning\n",
        "!pip install scikit-learn==1.3.2 -q\n",
        "!pip install imbalanced-learn==0.11.0 -q\n",
        "print(\"✅ ML libraries installed\")\n",
        "\n",
        "# Ensemble Methods\n",
        "!pip install xgboost==2.0.3 -q\n",
        "!pip install lightgbm==4.1.0 -q\n",
        "!pip install catboost==1.2.2 -q\n",
        "print(\"✅ Ensemble methods installed\")\n",
        "\n",
        "# Financial & Visualization\n",
        "!pip install yfinance==0.2.33 -q\n",
        "!pip install matplotlib==3.7.2 -q\n",
        "!pip install seaborn==0.13.0 -q\n",
        "!pip install plotly==5.18.0 -q\n",
        "print(\"✅ Financial and visualization libraries installed\")\n",
        "\n",
        "# Utilities\n",
        "!pip install tqdm tabulate colorama -q\n",
        "print(\"✅ Utilities installed\")\n",
        "\n",
        "print(\"\\n🎉 All packages installed successfully!\")"
      ],
      "metadata": {
        "id": "install_packages"
      },
      "execution_count": null,
      "outputs": []
    },
    {
      "cell_type": "markdown",
      "source": [
        "## Step 3: Download and Run the Fixed Implementation"
      ],
      "metadata": {
        "id": "run_header"
      }
    },
    {
      "cell_type": "code",
      "source": [
        "# Download the fixed implementation\n",
        "print(\"📥 Downloading fixed implementation...\")\n",
        "!wget -q https://raw.githubusercontent.com/gomna-pha/hypervision-crypto-ai/main/FINAL_HYPERBOLIC_CNN_FULLY_FIXED.py\n",
        "print(\"✅ Implementation downloaded!\\n\")\n",
        "\n",
        "# Import necessary libraries first\n",
        "import warnings\n",
        "warnings.filterwarnings('ignore')\n",
        "\n",
        "# Verify NumPy version\n",
        "import numpy as np\n",
        "print(f\"NumPy version: {np.__version__}\")\n",
        "\n",
        "# Now run the implementation\n",
        "print(\"\\n🚀 Starting Hyperbolic CNN Trading System...\\n\")\n",
        "print(\"=\"*80)\n",
        "\n",
        "# Execute the implementation\n",
        "exec(open('FINAL_HYPERBOLIC_CNN_FULLY_FIXED.py').read())"
      ],
      "metadata": {
        "id": "run_system"
      },
      "execution_count": null,
      "outputs": []
    },
    {
      "cell_type": "markdown",
      "source": [
        "## Alternative: All-in-One Cell (If above doesn't work)"
      ],
      "metadata": {
        "id": "alternative_header"
      }
    },
    {
      "cell_type": "code",
      "source": [
        "# ALTERNATIVE: Complete standalone implementation\n",
        "# This cell contains everything needed to run\n",
        "\n",
        "import warnings\n",
        "warnings.filterwarnings('ignore')\n",
        "\n",
        "# First ensure compatible NumPy\n",
        "import subprocess\n",
        "import sys\n",
        "\n",
        "try:\n",
        "    import numpy as np\n",
        "    # Check if numpy needs fixing\n",
        "    if np.__version__.startswith('2.'):\n",
        "        print(\"Fixing NumPy version...\")\n",
        "        subprocess.check_call([sys.executable, \"-m\", \"pip\", \"uninstall\", \"numpy\", \"-y\", \"-q\"])\n",
        "        subprocess.check_call([sys.executable, \"-m\", \"pip\", \"install\", \"numpy==1.24.3\", \"-q\"])\n",
        "        print(\"NumPy fixed. Please restart runtime and run this cell again.\")\n",
        "        import os\n",
        "        os.kill(os.getpid(), 9)\n",
        "except:\n",
        "    subprocess.check_call([sys.executable, \"-m\", \"pip\", \"install\", \"numpy==1.24.3\", \"-q\"])\n",
        "\n",
        "# Install all other packages\n",
        "packages = [\n",
        "    \"pandas==2.0.3\",\n",
        "    \"scipy==1.11.4\",\n",
        "    \"torch\",\n",
        "    \"scikit-learn==1.3.2\",\n",
        "    \"imbalanced-learn==0.11.0\",\n",
        "    \"xgboost==2.0.3\",\n",
        "    \"lightgbm==4.1.0\",\n",
        "    \"catboost==1.2.2\",\n",
        "    \"yfinance==0.2.33\",\n",
        "    \"matplotlib==3.7.2\",\n",
        "    \"seaborn==0.13.0\",\n",
        "    \"plotly==5.18.0\",\n",
        "    \"tqdm\",\n",
        "    \"tabulate\"\n",
        "]\n",
        "\n",
        "print(\"Installing packages...\")\n",
        "for package in packages:\n",
        "    subprocess.check_call([sys.executable, \"-m\", \"pip\", \"install\", package, \"-q\"])\n",
        "\n",
        "print(\"✅ All packages installed!\")\n",
        "\n",
        "# Download and run\n",
        "import urllib.request\n",
        "urllib.request.urlretrieve(\n",
        "    'https://raw.githubusercontent.com/gomna-pha/hypervision-crypto-ai/main/FINAL_HYPERBOLIC_CNN_FULLY_FIXED.py',\n",
        "    'hyperbolic_cnn.py'\n",
        ")\n",
        "\n",
        "print(\"\\n🚀 Running system...\\n\")\n",
        "exec(open('hyperbolic_cnn.py').read())"
      ],
      "metadata": {
        "id": "alternative_solution"
      },
      "execution_count": null,
      "outputs": []
    }
  ]
}