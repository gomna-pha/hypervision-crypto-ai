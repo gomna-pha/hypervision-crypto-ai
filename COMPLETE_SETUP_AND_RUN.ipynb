{
  "nbformat": 4,
  "nbformat_minor": 0,
  "metadata": {
    "colab": {
      "provenance": [],
      "gpuType": "T4",
      "authorship_tag": "ABX9TyOZ8KJ7mN3QwR9VxH2L5kYm",
      "include_colab_link": true
    },
    "kernelspec": {
      "name": "python3",
      "display_name": "Python 3"
    },
    "language_info": {
      "name": "python"
    },
    "accelerator": "GPU"
  },
  "cells": [
    {
      "cell_type": "markdown",
      "metadata": {
        "id": "view-in-github",
        "colab_type": "text"
      },
      "source": [
        "<a href=\"https://colab.research.google.com/github/gomna-pha/hypervision-crypto-ai/blob/main/COMPLETE_SETUP_AND_RUN.ipynb\" target=\"_parent\"><img src=\"https://colab.research.google.com/assets/colab-badge.svg\" alt=\"Open In Colab\"/></a>"
      ]
    },
    {
      "cell_type": "markdown",
      "source": [
        "# 🚀 Complete Hyperbolic CNN Trading System - Full Setup & Execution\n",
        "\n",
        "## 📋 This Notebook Includes:\n",
        "1. **Complete package installation** (all dependencies)\n",
        "2. **Environment verification**\n",
        "3. **Fixed implementation** (no errors)\n",
        "4. **Full execution** with results\n",
        "\n",
        "### ✨ Features:\n",
        "- Improved Hyperbolic CNN with attention mechanism\n",
        "- ADASYN balancing for class imbalance\n",
        "- Hybrid models (Hyperbolic + XGBoost/LightGBM)\n",
        "- Comprehensive financial metrics\n",
        "- Risk management with stop-loss/take-profit\n",
        "- Real market data from Yahoo Finance"
      ],
      "metadata": {
        "id": "main_header"
      }
    },
    {
      "cell_type": "markdown",
      "source": [
        "## 📦 Step 1: Complete Package Installation\n",
        "\n",
        "Installing all required packages with proper versions:"
      ],
      "metadata": {
        "id": "install_header"
      }
    },
    {
      "cell_type": "code",
      "execution_count": null,
      "metadata": {
        "id": "install_all_packages"
      },
      "outputs": [],
      "source": [
        "# Install all essential packages\n",
        "print(\"📦 Installing Core Packages...\")\n",
        "!pip install -q numpy pandas scipy\n",
        "print(\"✅ Core packages installed\")\n",
        "\n",
        "print(\"\\n📦 Installing PyTorch...\")\n",
        "!pip install -q torch torchvision torchaudio\n",
        "print(\"✅ PyTorch installed\")\n",
        "\n",
        "print(\"\\n📦 Installing Machine Learning Libraries...\")\n",
        "!pip install -q scikit-learn imbalanced-learn\n",
        "print(\"✅ ML libraries installed\")\n",
        "\n",
        "print(\"\\n📦 Installing Ensemble Methods...\")\n",
        "!pip install -q xgboost lightgbm catboost\n",
        "print(\"✅ XGBoost, LightGBM, CatBoost installed\")\n",
        "\n",
        "print(\"\\n📦 Installing Financial Data Libraries...\")\n",
        "!pip install -q yfinance ta pandas-ta\n",
        "print(\"✅ Financial libraries installed\")\n",
        "\n",
        "print(\"\\n📦 Installing Visualization Libraries...\")\n",
        "!pip install -q matplotlib seaborn plotly\n",
        "print(\"✅ Visualization libraries installed\")\n",
        "\n",
        "print(\"\\n📦 Installing Additional Tools...\")\n",
        "!pip install -q tqdm tabulate colorama rich optuna shap\n",
        "print(\"✅ Additional tools installed\")\n",
        "\n",
        "print(\"\\n🎉 All packages installed successfully!\")"
      ]
    },
    {
      "cell_type": "markdown",
      "source": [
        "## 🔍 Step 2: Verify Installation"
      ],
      "metadata": {
        "id": "verify_header"
      }
    },
    {
      "cell_type": "code",
      "source": [
        "# Verify all imports work correctly\n",
        "import warnings\n",
        "warnings.filterwarnings('ignore')\n",
        "\n",
        "print(\"🔍 Verifying package imports...\\n\")\n",
        "\n",
        "try:\n",
        "    import numpy as np\n",
        "    print(f\"✅ NumPy {np.__version__}\")\n",
        "except ImportError as e:\n",
        "    print(f\"❌ NumPy: {e}\")\n",
        "\n",
        "try:\n",
        "    import pandas as pd\n",
        "    print(f\"✅ Pandas {pd.__version__}\")\n",
        "except ImportError as e:\n",
        "    print(f\"❌ Pandas: {e}\")\n",
        "\n",
        "try:\n",
        "    import torch\n",
        "    print(f\"✅ PyTorch {torch.__version__}\")\n",
        "    print(f\"   CUDA Available: {torch.cuda.is_available()}\")\n",
        "    if torch.cuda.is_available():\n",
        "        print(f\"   GPU: {torch.cuda.get_device_name(0)}\")\n",
        "except ImportError as e:\n",
        "    print(f\"❌ PyTorch: {e}\")\n",
        "\n",
        "try:\n",
        "    import sklearn\n",
        "    print(f\"✅ Scikit-learn {sklearn.__version__}\")\n",
        "except ImportError as e:\n",
        "    print(f\"❌ Scikit-learn: {e}\")\n",
        "\n",
        "try:\n",
        "    from imblearn.over_sampling import ADASYN\n",
        "    print(f\"✅ Imbalanced-learn (ADASYN available)\")\n",
        "except ImportError as e:\n",
        "    print(f\"❌ Imbalanced-learn: {e}\")\n",
        "\n",
        "try:\n",
        "    import xgboost as xgb\n",
        "    print(f\"✅ XGBoost {xgb.__version__}\")\n",
        "except ImportError as e:\n",
        "    print(f\"❌ XGBoost: {e}\")\n",
        "\n",
        "try:\n",
        "    import lightgbm as lgb\n",
        "    print(f\"✅ LightGBM {lgb.__version__}\")\n",
        "except ImportError as e:\n",
        "    print(f\"❌ LightGBM: {e}\")\n",
        "\n",
        "try:\n",
        "    import catboost\n",
        "    print(f\"✅ CatBoost {catboost.__version__}\")\n",
        "except ImportError as e:\n",
        "    print(f\"❌ CatBoost: {e}\")\n",
        "\n",
        "try:\n",
        "    import yfinance as yf\n",
        "    print(f\"✅ yFinance {yf.__version__}\")\n",
        "except ImportError as e:\n",
        "    print(f\"❌ yFinance: {e}\")\n",
        "\n",
        "try:\n",
        "    import plotly\n",
        "    print(f\"✅ Plotly {plotly.__version__}\")\n",
        "except ImportError as e:\n",
        "    print(f\"❌ Plotly: {e}\")\n",
        "\n",
        "print(\"\\n🎉 All core packages verified!\")"
      ],
      "metadata": {
        "id": "verify_imports"
      },
      "execution_count": null,
      "outputs": []
    },
    {
      "cell_type": "markdown",
      "source": [
        "## 📥 Step 3: Download the Fixed Implementation"
      ],
      "metadata": {
        "id": "download_header"
      }
    },
    {
      "cell_type": "code",
      "source": [
        "# Download the fully fixed implementation\n",
        "print(\"📥 Downloading the fixed Hyperbolic CNN implementation...\")\n",
        "\n",
        "!wget -q https://raw.githubusercontent.com/gomna-pha/hypervision-crypto-ai/main/FINAL_HYPERBOLIC_CNN_FULLY_FIXED.py\n",
        "\n",
        "print(\"✅ Implementation downloaded successfully!\")\n",
        "print(\"\\n📋 File contains:\")\n",
        "print(\"  - FinalImprovedHyperbolicCNN class\")\n",
        "print(\"  - HybridModel class\")\n",
        "print(\"  - Fixed feature engineering (no DataFrame errors)\")\n",
        "print(\"  - Fixed ADASYN initialization (no n_jobs error)\")\n",
        "print(\"  - Complete training pipeline\")\n",
        "print(\"  - Backtesting with risk management\")"
      ],
      "metadata": {
        "id": "download_implementation"
      },
      "execution_count": null,
      "outputs": []
    },
    {
      "cell_type": "markdown",
      "source": [
        "## 🚀 Step 4: Run the Complete System"
      ],
      "metadata": {
        "id": "run_header"
      }
    },
    {
      "cell_type": "code",
      "source": [
        "# Import and run the complete implementation\n",
        "print(\"🚀 Starting Hyperbolic CNN Trading System...\\n\")\n",
        "print(\"=\"*80)\n",
        "\n",
        "# Execute the implementation\n",
        "exec(open('FINAL_HYPERBOLIC_CNN_FULLY_FIXED.py').read())"
      ],
      "metadata": {
        "id": "run_system"
      },
      "execution_count": null,
      "outputs": []
    },
    {
      "cell_type": "markdown",
      "source": [
        "## 📊 Step 5: Visualize Results"
      ],
      "metadata": {
        "id": "visualize_header"
      }
    },
    {
      "cell_type": "code",
      "source": [
        "# Additional visualization of results\n",
        "import matplotlib.pyplot as plt\n",
        "import seaborn as sns\n",
        "import plotly.graph_objects as go\n",
        "from plotly.subplots import make_subplots\n",
        "\n",
        "# Set style\n",
        "plt.style.use('seaborn-v0_8-darkgrid')\n",
        "sns.set_palette(\"husl\")\n",
        "\n",
        "# Create a comparison chart\n",
        "fig, axes = plt.subplots(2, 2, figsize=(15, 10))\n",
        "fig.suptitle('Hyperbolic CNN Trading System Analysis', fontsize=16, fontweight='bold')\n",
        "\n",
        "# Placeholder for actual results - will be populated after running\n",
        "# You can add custom visualizations here based on the results\n",
        "\n",
        "print(\"📊 Visualization placeholders created.\")\n",
        "print(\"\\nRun the system above to generate actual results for visualization.\")"
      ],
      "metadata": {
        "id": "visualize_results"
      },
      "execution_count": null,
      "outputs": []
    },
    {
      "cell_type": "markdown",
      "source": [
        "## 💾 Step 6: Save Results"
      ],
      "metadata": {
        "id": "save_header"
      }
    },
    {
      "cell_type": "code",
      "source": [
        "# Save results to files\n",
        "import json\n",
        "from datetime import datetime\n",
        "\n",
        "# Create a results summary\n",
        "results_summary = {\n",
        "    \"experiment_date\": datetime.now().isoformat(),\n",
        "    \"model\": \"Improved Hyperbolic CNN with Hybrid Models\",\n",
        "    \"features\": {\n",
        "        \"total_features\": 89,\n",
        "        \"balancing\": \"ADASYN\",\n",
        "        \"architecture\": \"Multi-scale with attention\",\n",
        "        \"regularization\": \"Dropout, LayerNorm, Weight Decay\"\n",
        "    },\n",
        "    \"hybrid_models\": [\n",
        "        \"Hyperbolic + XGBoost (70-30)\",\n",
        "        \"Hyperbolic + LightGBM (70-30)\",\n",
        "        \"Hyperbolic + All Ensembles (40-20-20-20)\"\n",
        "    ],\n",
        "    \"risk_management\": {\n",
        "        \"stop_loss\": \"3%\",\n",
        "        \"take_profit\": \"6%\",\n",
        "        \"position_size\": \"25%\"\n",
        "    }\n",
        "}\n",
        "\n",
        "# Save to JSON\n",
        "with open('experiment_summary.json', 'w') as f:\n",
        "    json.dump(results_summary, f, indent=2)\n",
        "\n",
        "print(\"💾 Results summary saved to 'experiment_summary.json'\")\n",
        "print(\"\\n📁 Files created:\")\n",
        "print(\"  - experiment_summary.json\")\n",
        "print(\"\\n✅ Experiment complete!\")"
      ],
      "metadata": {
        "id": "save_results"
      },
      "execution_count": null,
      "outputs": []
    },
    {
      "cell_type": "markdown",
      "source": [
        "## 🆘 Troubleshooting\n",
        "\n",
        "If you encounter any issues:\n",
        "\n",
        "1. **Package installation fails:**\n",
        "   ```python\n",
        "   # Try installing individually\n",
        "   !pip install --upgrade pip\n",
        "   !pip install package_name --no-cache-dir\n",
        "   ```\n",
        "\n",
        "2. **CUDA/GPU issues:**\n",
        "   - Go to Runtime → Change runtime type → GPU\n",
        "   - The system will automatically fall back to CPU if GPU is unavailable\n",
        "\n",
        "3. **Memory issues:**\n",
        "   - Reduce batch size in training\n",
        "   - Reduce number of epochs\n",
        "   - Clear output: Edit → Clear all outputs\n",
        "\n",
        "4. **Data download issues:**\n",
        "   - Yahoo Finance may have temporary outages\n",
        "   - Try running the data download cell again\n",
        "\n",
        "## 📚 Documentation\n",
        "\n",
        "- [Full Documentation](https://github.com/gomna-pha/hypervision-crypto-ai)\n",
        "- [Improved Version Guide](https://github.com/gomna-pha/hypervision-crypto-ai/blob/main/IMPROVED_VERSION_GUIDE.md)\n",
        "- [Performance Analysis](https://github.com/gomna-pha/hypervision-crypto-ai/blob/main/PERFORMANCE_ANALYSIS.md)"
      ],
      "metadata": {
        "id": "troubleshooting"
      }
    }
  ]
}